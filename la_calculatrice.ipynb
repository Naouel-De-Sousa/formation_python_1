{
 "cells": [
  {
   "cell_type": "markdown",
   "metadata": {},
   "source": [
    "Dans ce projet, vous devez réaliser une calculatrice en ligne de commande qui vous permettra d'additionner deux nombres ensemble.\n",
    "\n",
    "Déroulé du script\n",
    "Le script doit demander à l'utilisateur de saisir deux nombres :\n",
    "\n",
    ">>> Entrez un premier nombre : 5\n",
    ">>> Entrez un deuxième nombre : 10\n",
    "Le script doit ensuite afficher la phrase suivante :\n",
    "\n",
    "\"Le résultat de l'addition de 5 avec 10 est égal à 15\"\n",
    "\n",
    "Vous devrez donc utiliser une fonction de Python qui permet de récupérer la saisie de l'utilisateur (deux fois), pour ensuite additionner ces variables et afficher le résultat.\n",
    "\n",
    "Vous devez vous assurer que le programme ne retournera pas d'erreur si l'utilisateur rentre autre chose que deux nombres.\n",
    "\n",
    "Il va donc falloir gérer ces cas de figure. Si l'utilisateur rentre une lettre, un symbole ou quoi que ce soit d'autre qu'un nombre, vous devrez lui demander de nouveau de saisir deux valeurs valides :\n",
    "\n",
    ">>> Entrez un premier nombre : a\n",
    ">>> Entrez un deuxième nombre : sgoind\n",
    "Veuillez entrer deux nombres valides\n",
    ">>> Entrez un premier nombre"
   ]
  },
  {
   "cell_type": "markdown",
   "metadata": {},
   "source": [
    "# Calculatrice"
   ]
  },
  {
   "cell_type": "code",
   "execution_count": 57,
   "metadata": {},
   "outputs": [
    {
     "name": "stdout",
     "output_type": "stream",
     "text": [
      "Entrez un premier nombre : t\n",
      "Entrez un deuxieme nombre: 2\n",
      "Veuillez entrer deux nombres valides\n",
      "Entrez un premier nombre : 2\n",
      "Entrez un deuxieme nombre: u\n",
      "Veuillez entrer deux nombres valides\n",
      "Entrez un premier nombre : 6\n",
      "Entrez un deuxieme nombre: 9\n",
      "Le résultat de l'addition de 6 avec 9 est égal à \n",
      "    15\n"
     ]
    }
   ],
   "source": [
    "# On déclare deux variables\n",
    "first_number = second_number = \"\"\n",
    "\n",
    "# Tant que a et b ne sont pas des nombres, on boucle\n",
    "while not (first_number.isdigit() and second_number.isdigit()):\n",
    "    \n",
    "\n",
    "\n",
    "    first_number = input(\"Entrez un premier nombre : \")\n",
    "    second_number =input(\"Entrez un deuxieme nombre: \")                \n",
    "   \n",
    "    if not (first_number.isdigit() and second_number.isdigit()):\n",
    "        print(\"Veuillez entrer deux nombres valides\")\n",
    "        \n",
    "print(f\"\"\"Le résultat de l'addition de {first_number} avec {second_number} est égal à \n",
    "    {int(first_number) + int(second_number)}\"\"\")\n",
    "    \n",
    "\n",
    "\n",
    "    \n",
    "\n",
    "    \n",
    "    "
   ]
  },
  {
   "cell_type": "code",
   "execution_count": 56,
   "metadata": {},
   "outputs": [
    {
     "name": "stdout",
     "output_type": "stream",
     "text": [
      "Entrez un premier nombre : 7\n",
      "Entrez un deuxième nombre : i\n",
      "Veuillez entrer deux nombres valides\n",
      "Entrez un premier nombre : 9\n",
      "Entrez un deuxième nombre : 9\n",
      "Le résultat de l'addition de 9 avec 9 est égal à 18\n"
     ]
    }
   ],
   "source": [
    "# On déclare deux variables\n",
    "a = b = \"\"\n",
    "\n",
    "# Tant que a et b ne sont pas des nombres, on boucle\n",
    "while not (a.isdigit() and b.isdigit()):\n",
    "    \n",
    "\n",
    "# On demande deux nombres à l'utilisateur\n",
    "    a = input(\"Entrez un premier nombre : \")\n",
    "    b = input(\"Entrez un deuxième nombre : \")\n",
    "    \n",
    "    # On affiche une phrase si les nombres entrés ne sont pas valides.\n",
    "    if not (a.isdigit() and b.isdigit()):\n",
    "        print(\"Veuillez entrer deux nombres valides\")\n",
    "\n",
    "# On affiche le résultat de l'addition\n",
    "print(f\"Le résultat de l'addition de {a} avec {b} est égal à {int(a) + int(b)}\")"
   ]
  },
  {
   "cell_type": "code",
   "execution_count": null,
   "metadata": {},
   "outputs": [],
   "source": []
  }
 ],
 "metadata": {
  "kernelspec": {
   "display_name": "Python 3",
   "language": "python",
   "name": "python3"
  },
  "language_info": {
   "codemirror_mode": {
    "name": "ipython",
    "version": 3
   },
   "file_extension": ".py",
   "mimetype": "text/x-python",
   "name": "python",
   "nbconvert_exporter": "python",
   "pygments_lexer": "ipython3",
   "version": "3.7.6"
  }
 },
 "nbformat": 4,
 "nbformat_minor": 4
}
